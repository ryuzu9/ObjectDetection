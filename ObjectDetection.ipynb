{
 "cells": [
  {
   "cell_type": "code",
   "execution_count": 2,
   "metadata": {},
   "outputs": [
    {
     "name": "stdout",
     "output_type": "stream",
     "text": [
      "[Errno -3] Temporary failure in name resolution\n"
     ]
    },
    {
     "ename": "NameError",
     "evalue": "name 'json_dict' is not defined",
     "output_type": "error",
     "traceback": [
      "\u001b[0;31m---------------------------------------------------------------------------\u001b[0m",
      "\u001b[0;31mNameError\u001b[0m                                 Traceback (most recent call last)",
      "\u001b[0;32m<ipython-input-2-bd50df3dd8ea>\u001b[0m in \u001b[0;36m<module>\u001b[0;34m\u001b[0m\n\u001b[1;32m     54\u001b[0m \u001b[0;34m\u001b[0m\u001b[0m\n\u001b[1;32m     55\u001b[0m \u001b[0;31m#     json_dict = json.loads(json.dumps(data, indent=2))\u001b[0m\u001b[0;34m\u001b[0m\u001b[0;34m\u001b[0m\u001b[0;34m\u001b[0m\u001b[0m\n\u001b[0;32m---> 56\u001b[0;31m     \u001b[0;32mfor\u001b[0m \u001b[0mitem\u001b[0m \u001b[0;32min\u001b[0m \u001b[0mjson_dict\u001b[0m\u001b[0;34m[\u001b[0m\u001b[0;34m\"objects\"\u001b[0m\u001b[0;34m]\u001b[0m\u001b[0;34m:\u001b[0m\u001b[0;34m\u001b[0m\u001b[0;34m\u001b[0m\u001b[0m\n\u001b[0m\u001b[1;32m     57\u001b[0m         \u001b[0mx\u001b[0m \u001b[0;34m=\u001b[0m \u001b[0mitem\u001b[0m\u001b[0;34m[\u001b[0m\u001b[0;34m\"rectangle\"\u001b[0m\u001b[0;34m]\u001b[0m\u001b[0;34m[\u001b[0m\u001b[0;34m\"x\"\u001b[0m\u001b[0;34m]\u001b[0m\u001b[0;34m\u001b[0m\u001b[0;34m\u001b[0m\u001b[0m\n\u001b[1;32m     58\u001b[0m         \u001b[0my\u001b[0m \u001b[0;34m=\u001b[0m \u001b[0mitem\u001b[0m\u001b[0;34m[\u001b[0m\u001b[0;34m\"rectangle\"\u001b[0m\u001b[0;34m]\u001b[0m\u001b[0;34m[\u001b[0m\u001b[0;34m\"y\"\u001b[0m\u001b[0;34m]\u001b[0m\u001b[0;34m\u001b[0m\u001b[0;34m\u001b[0m\u001b[0m\n",
      "\u001b[0;31mNameError\u001b[0m: name 'json_dict' is not defined"
     ]
    }
   ],
   "source": [
    "from azure.cognitiveservices.vision.computervision import ComputerVisionClient\n",
    "from azure.cognitiveservices.vision.computervision.models import OperationStatusCodes, VisualFeatureTypes\n",
    "from msrest.authentication import CognitiveServicesCredentials\n",
    "\n",
    "import http.client, urllib.request, urllib.parse, urllib.error, base64, json, io, tempfile, requests, cv2\n",
    "\n",
    "%matplotlib inline\n",
    "import matplotlib.pyplot as plt\n",
    "import matplotlib.image as mpimg\n",
    "\n",
    "def imread_web(url):\n",
    "    res = requests.get(url)\n",
    "    img = None\n",
    "    with tempfile.NamedTemporaryFile(dir='./') as fp:\n",
    "        fp.write(res.content)\n",
    "        fp.file.seek(0)\n",
    "        img = cv2.imread(fp.name)\n",
    "    return img\n",
    "\n",
    "if __name__ == \"__main__\":\n",
    "    # 別途指定する値に書き換える\n",
    "    subscription_key = \"212c45bfb472427a8f00b7aba173c458\"\n",
    "    endpoint = \"takano0624.cognitiveservices.azure.com\"\n",
    "\n",
    "    headers = {\n",
    "        'Content-Type': 'application/json',\n",
    "        'Ocp-Apim-Subscription-Key': subscription_key,\n",
    "    }\n",
    "\n",
    "    params = urllib.parse.urlencode({\n",
    "        'visualFeatures': 'Objects',\n",
    "        'language': 'en',\n",
    "    })\n",
    "\n",
    "    # 好きな画像のURLに書き換える\n",
    "    # 物体の全体が映っている写真(JPEG, PNGなど)\n",
    "    image_url = 'http://explan.jp/staffblog/wp-content/uploads/sites/2/2015/06/4f52304c27f1e868b8fceb4114e23862.jpg'\n",
    "\n",
    "    body = { 'url': image_url }\n",
    "    body = json.dumps(body)\n",
    "\n",
    "    try:\n",
    "        conn = http.client.HTTPSConnection(endpoint)\n",
    "        conn.request(\"POST\", \"/vision/v2.1/analyze?%s\" % params, body, headers)\n",
    "        response = conn.getresponse()\n",
    "        data = json.loads(response.read())\n",
    "        print(json.dumps(data, indent=2))\n",
    "        conn.close()\n",
    "    except Exception as e:\n",
    "        print(\"[Errno {0}] {1}\".format(e.errno, e.strerror))\n",
    "\n",
    "    raw_img = imread_web(image_url)\n",
    "    raw_img = cv2.cvtColor(raw_img, cv2.COLOR_BGR2RGB)\n",
    "    \n",
    "    json_dict = json.loads(json.dumps(data, indent=2))\n",
    "    for item in json_dict[\"objects\"]:\n",
    "        x = item[\"rectangle\"][\"x\"]\n",
    "        y = item[\"rectangle\"][\"y\"]\n",
    "        w = item[\"rectangle\"][\"w\"]\n",
    "        h = item[\"rectangle\"][\"h\"]\n",
    "        edited_img = cv2.putText(raw_img, item[\"object\"], (item[\"rectangle\"][\"x\"]+5, item[\"rectangle\"][\"y\"]+35), cv2.FONT_HERSHEY_PLAIN, 2, (255, 0, 0), 3, cv2.LINE_AA)\n",
    "        edited_img = cv2.rectangle(edited_img, (x, y), (x+w, y+h), (255, 0, 0), 2)\n",
    "    \n",
    "    plt.figure(figsize=(3, 3), dpi=300)\n",
    "    plt.imshow(edited_img)\n",
    "    plt.xticks(fontsize=3)\n",
    "    plt.yticks(fontsize=3)    \n",
    "    plt.show()"
   ]
  },
  {
   "cell_type": "code",
   "execution_count": null,
   "metadata": {},
   "outputs": [],
   "source": []
  }
 ],
 "metadata": {
  "kernelspec": {
   "display_name": "Python 3",
   "language": "python",
   "name": "python3"
  },
  "language_info": {
   "codemirror_mode": {
    "name": "ipython",
    "version": 3
   },
   "file_extension": ".py",
   "mimetype": "text/x-python",
   "name": "python",
   "nbconvert_exporter": "python",
   "pygments_lexer": "ipython3",
   "version": "3.8.10"
  }
 },
 "nbformat": 4,
 "nbformat_minor": 4
}
